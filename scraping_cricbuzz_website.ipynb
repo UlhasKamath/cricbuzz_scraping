{
 "cells": [
  {
   "cell_type": "markdown",
   "id": "6acc12e5",
   "metadata": {},
   "source": [
    "## Scraping Cricbuzz site to get Top Batters in Tests, ODIs, T20Is"
   ]
  },
  {
   "cell_type": "code",
   "execution_count": 1,
   "id": "f6619164",
   "metadata": {},
   "outputs": [],
   "source": [
    "# importing libraries\n",
    "import requests\n",
    "import pandas as pd\n",
    "from bs4 import BeautifulSoup"
   ]
  },
  {
   "cell_type": "code",
   "execution_count": 2,
   "id": "eaae36a8",
   "metadata": {},
   "outputs": [],
   "source": [
    "#getting page to parse with beautifulsoup\n",
    "url = 'https://www.cricbuzz.com/cricket-stats/icc-rankings/men/batting'\n",
    "\n",
    "page = requests.get(url)\n",
    "doc = BeautifulSoup(page.content,'html.parser')"
   ]
  },
  {
   "cell_type": "markdown",
   "id": "e652ae2f",
   "metadata": {},
   "source": [
    "#### Obtaining div tags that contain all batters data"
   ]
  },
  {
   "cell_type": "code",
   "execution_count": 4,
   "id": "95560221",
   "metadata": {},
   "outputs": [
    {
     "data": {
      "text/plain": [
       "290"
      ]
     },
     "execution_count": 4,
     "metadata": {},
     "output_type": "execute_result"
    }
   ],
   "source": [
    "div_tags = doc.find_all('div', class_='cb-col cb-col-100 cb-font-14 cb-lst-itm text-center')\n",
    "len(div_tags)"
   ]
  },
  {
   "cell_type": "code",
   "execution_count": 5,
   "id": "9582136a",
   "metadata": {},
   "outputs": [
    {
     "data": {
      "text/plain": [
       "<div class=\"cb-col cb-col-100 cb-font-14 cb-lst-itm text-center\"> <div class=\"cb-col cb-col-16 cb-rank-tbl cb-font-16\">1</div> <div class=\"cb-col cb-col-50 cb-lst-itm-sm text-left\"> <div class=\"cb-col cb-col-33\"> <div class=\"cb-col cb-col-50\"><span class=\"cb-ico\" style=\"position:absolute;\"></span>    –</div> <div class=\"cb-col cb-col-50\"><img alt=\"Joe Root\" class=\"img-responsive cb-rank-plyr-img\" src=\"/a/img/v1/50x50/i1/c170942/joe-root.jpg\" title=\"Joe Root\"/></div> </div> <div class=\"cb-col cb-col-67 cb-rank-plyr\"> <a class=\"text-hvr-underline text-bold cb-font-16\" href=\"/profiles/8019/joe-root\" title=\"Joe Root's Profile\">Joe Root</a> <div class=\"cb-font-12 text-gray\">ENGLAND</div> </div> </div> <div class=\"cb-col cb-col-17 cb-rank-tbl pull-right\">890</div> </div>"
      ]
     },
     "execution_count": 5,
     "metadata": {},
     "output_type": "execute_result"
    }
   ],
   "source": [
    "div_tags[0]"
   ]
  },
  {
   "cell_type": "markdown",
   "id": "860ec6af",
   "metadata": {},
   "source": [
    "#### Function to obtain Top 10 test batters"
   ]
  },
  {
   "cell_type": "code",
   "execution_count": 50,
   "id": "84382253",
   "metadata": {},
   "outputs": [],
   "source": [
    "def get_test_player_data():\n",
    "    test_batters_names = []\n",
    "\n",
    "    for i in range(0,10):\n",
    "        test_names = div_tags[i].find('a', class_='text-hvr-underline text-bold cb-font-16').text\n",
    "        test_batters_names.append(test_names)\n",
    "\n",
    "    test_batters_country = []\n",
    "\n",
    "    for i in range(0,10):\n",
    "        test_player_country = div_tags[i].find('div', class_='cb-font-12 text-gray').text\n",
    "        test_batters_country.append(test_player_country)\n",
    "\n",
    "    test_batters_ratings = []\n",
    "\n",
    "    for i in range(0,10):\n",
    "        test_player_rating = div_tags[i].find('div', class_='cb-col cb-col-17 cb-rank-tbl pull-right').text\n",
    "        test_batters_ratings.append(test_player_rating)\n",
    "\n",
    "    test_batters_positions = []\n",
    "\n",
    "    for i in range(0,10):\n",
    "        test_player_position = div_tags[i].find('div', class_='cb-col cb-col-16 cb-rank-tbl cb-font-16').text\n",
    "        test_batters_positions.append(test_player_position)\n",
    "    \n",
    "    #store the values into a dictionary and return\n",
    "    test_dict = {\n",
    "        'Positions': test_batters_positions,\n",
    "        'Player Name': test_batters_names,\n",
    "        'Country': test_batters_country,\n",
    "        'Ratings': test_batters_ratings,\n",
    "         }\n",
    "    \n",
    "    return test_dict"
   ]
  },
  {
   "cell_type": "markdown",
   "id": "116d53d0",
   "metadata": {},
   "source": [
    "#### Creating a dataframe before writing to csv files"
   ]
  },
  {
   "cell_type": "code",
   "execution_count": null,
   "id": "bee37f76",
   "metadata": {},
   "outputs": [],
   "source": [
    "test_df = pd.DataFrame(get_test_player_data())"
   ]
  },
  {
   "cell_type": "code",
   "execution_count": 52,
   "id": "feeb8bfe",
   "metadata": {},
   "outputs": [
    {
     "data": {
      "text/html": [
       "<div>\n",
       "<style scoped>\n",
       "    .dataframe tbody tr th:only-of-type {\n",
       "        vertical-align: middle;\n",
       "    }\n",
       "\n",
       "    .dataframe tbody tr th {\n",
       "        vertical-align: top;\n",
       "    }\n",
       "\n",
       "    .dataframe thead th {\n",
       "        text-align: right;\n",
       "    }\n",
       "</style>\n",
       "<table border=\"1\" class=\"dataframe\">\n",
       "  <thead>\n",
       "    <tr style=\"text-align: right;\">\n",
       "      <th></th>\n",
       "      <th>Positions</th>\n",
       "      <th>Player Name</th>\n",
       "      <th>Country</th>\n",
       "      <th>Ratings</th>\n",
       "    </tr>\n",
       "  </thead>\n",
       "  <tbody>\n",
       "    <tr>\n",
       "      <th>0</th>\n",
       "      <td>1</td>\n",
       "      <td>Joe Root</td>\n",
       "      <td>ENGLAND</td>\n",
       "      <td>890</td>\n",
       "    </tr>\n",
       "    <tr>\n",
       "      <th>1</th>\n",
       "      <td>2</td>\n",
       "      <td>Marnus Labuschagne</td>\n",
       "      <td>AUSTRALIA</td>\n",
       "      <td>885</td>\n",
       "    </tr>\n",
       "    <tr>\n",
       "      <th>2</th>\n",
       "      <td>3</td>\n",
       "      <td>Babar Azam</td>\n",
       "      <td>PAKISTAN</td>\n",
       "      <td>879</td>\n",
       "    </tr>\n",
       "    <tr>\n",
       "      <th>3</th>\n",
       "      <td>4</td>\n",
       "      <td>Steven Smith</td>\n",
       "      <td>AUSTRALIA</td>\n",
       "      <td>848</td>\n",
       "    </tr>\n",
       "    <tr>\n",
       "      <th>4</th>\n",
       "      <td>5</td>\n",
       "      <td>Rishabh Pant</td>\n",
       "      <td>INDIA</td>\n",
       "      <td>801</td>\n",
       "    </tr>\n",
       "    <tr>\n",
       "      <th>5</th>\n",
       "      <td>6</td>\n",
       "      <td>Kane Williamson</td>\n",
       "      <td>NEW ZEALAND</td>\n",
       "      <td>786</td>\n",
       "    </tr>\n",
       "    <tr>\n",
       "      <th>6</th>\n",
       "      <td>7</td>\n",
       "      <td>Usman Khawaja</td>\n",
       "      <td>AUSTRALIA</td>\n",
       "      <td>766</td>\n",
       "    </tr>\n",
       "    <tr>\n",
       "      <th>7</th>\n",
       "      <td>8</td>\n",
       "      <td>Dimuth Karunaratne</td>\n",
       "      <td>SRI LANKA</td>\n",
       "      <td>748</td>\n",
       "    </tr>\n",
       "    <tr>\n",
       "      <th>8</th>\n",
       "      <td>9</td>\n",
       "      <td>Rohit Sharma</td>\n",
       "      <td>INDIA</td>\n",
       "      <td>746</td>\n",
       "    </tr>\n",
       "    <tr>\n",
       "      <th>9</th>\n",
       "      <td>10</td>\n",
       "      <td>Jonny Bairstow</td>\n",
       "      <td>ENGLAND</td>\n",
       "      <td>726</td>\n",
       "    </tr>\n",
       "  </tbody>\n",
       "</table>\n",
       "</div>"
      ],
      "text/plain": [
       "  Positions         Player Name      Country Ratings\n",
       "0         1            Joe Root      ENGLAND     890\n",
       "1         2  Marnus Labuschagne    AUSTRALIA     885\n",
       "2         3          Babar Azam     PAKISTAN     879\n",
       "3         4        Steven Smith    AUSTRALIA     848\n",
       "4         5        Rishabh Pant        INDIA     801\n",
       "5         6     Kane Williamson  NEW ZEALAND     786\n",
       "6         7       Usman Khawaja    AUSTRALIA     766\n",
       "7         8  Dimuth Karunaratne    SRI LANKA     748\n",
       "8         9        Rohit Sharma        INDIA     746\n",
       "9        10      Jonny Bairstow      ENGLAND     726"
      ]
     },
     "execution_count": 52,
     "metadata": {},
     "output_type": "execute_result"
    }
   ],
   "source": [
    "test_df"
   ]
  },
  {
   "cell_type": "markdown",
   "id": "76895b79",
   "metadata": {},
   "source": [
    "#### Similar function to get ODI batters rankings with adjusted index"
   ]
  },
  {
   "cell_type": "code",
   "execution_count": 53,
   "id": "db43ae47",
   "metadata": {},
   "outputs": [],
   "source": [
    "def get_odi_player_data():\n",
    "    odi_batters_names = []\n",
    "    \n",
    "    #adjust range as obtained div tags contain top 100 batters in all formats\n",
    "    for i in range(96,106):\n",
    "        odi_names = div_tags[i].find('a', class_='text-hvr-underline text-bold cb-font-16').text\n",
    "        odi_batters_names.append(odi_names)\n",
    "\n",
    "    odi_batters_country = []\n",
    "\n",
    "    for i in range(96,106):\n",
    "        odi_player_country = div_tags[i].find('div', class_='cb-font-12 text-gray').text\n",
    "        odi_batters_country.append(odi_player_country)\n",
    "\n",
    "    odi_batters_ratings = []\n",
    "\n",
    "    for i in range(96,106):\n",
    "        odi_player_rating = div_tags[i].find('div', class_='cb-col cb-col-17 cb-rank-tbl pull-right').text\n",
    "        odi_batters_ratings.append(odi_player_rating)\n",
    "\n",
    "    odi_batters_positions = []\n",
    "\n",
    "    for i in range(96,106):\n",
    "        odi_player_position = div_tags[i].find('div', class_='cb-col cb-col-16 cb-rank-tbl cb-font-16').text\n",
    "        odi_batters_positions.append(odi_player_position)\n",
    "    \n",
    "    odi_dict = {\n",
    "        'Positions': odi_batters_positions,\n",
    "        'Player Name': odi_batters_names,\n",
    "        'Country': odi_batters_country,\n",
    "        'Ratings': odi_batters_ratings,\n",
    "        }\n",
    "    \n",
    "    return odi_dict"
   ]
  },
  {
   "cell_type": "code",
   "execution_count": 54,
   "id": "47b601ec",
   "metadata": {},
   "outputs": [],
   "source": [
    "odi_df = pd.DataFrame(get_odi_player_data())"
   ]
  },
  {
   "cell_type": "code",
   "execution_count": 55,
   "id": "aa88ed8d",
   "metadata": {},
   "outputs": [
    {
     "data": {
      "text/html": [
       "<div>\n",
       "<style scoped>\n",
       "    .dataframe tbody tr th:only-of-type {\n",
       "        vertical-align: middle;\n",
       "    }\n",
       "\n",
       "    .dataframe tbody tr th {\n",
       "        vertical-align: top;\n",
       "    }\n",
       "\n",
       "    .dataframe thead th {\n",
       "        text-align: right;\n",
       "    }\n",
       "</style>\n",
       "<table border=\"1\" class=\"dataframe\">\n",
       "  <thead>\n",
       "    <tr style=\"text-align: right;\">\n",
       "      <th></th>\n",
       "      <th>Positions</th>\n",
       "      <th>Player Name</th>\n",
       "      <th>Country</th>\n",
       "      <th>Ratings</th>\n",
       "    </tr>\n",
       "  </thead>\n",
       "  <tbody>\n",
       "    <tr>\n",
       "      <th>0</th>\n",
       "      <td>1</td>\n",
       "      <td>Babar Azam</td>\n",
       "      <td>PAKISTAN</td>\n",
       "      <td>890</td>\n",
       "    </tr>\n",
       "    <tr>\n",
       "      <th>1</th>\n",
       "      <td>2</td>\n",
       "      <td>Rassie van der Dussen</td>\n",
       "      <td>SOUTH AFRICA</td>\n",
       "      <td>789</td>\n",
       "    </tr>\n",
       "    <tr>\n",
       "      <th>2</th>\n",
       "      <td>3</td>\n",
       "      <td>Quinton de Kock</td>\n",
       "      <td>SOUTH AFRICA</td>\n",
       "      <td>784</td>\n",
       "    </tr>\n",
       "    <tr>\n",
       "      <th>3</th>\n",
       "      <td>4</td>\n",
       "      <td>Imam-ul-Haq</td>\n",
       "      <td>PAKISTAN</td>\n",
       "      <td>779</td>\n",
       "    </tr>\n",
       "    <tr>\n",
       "      <th>4</th>\n",
       "      <td>5</td>\n",
       "      <td>Virat Kohli</td>\n",
       "      <td>INDIA</td>\n",
       "      <td>744</td>\n",
       "    </tr>\n",
       "    <tr>\n",
       "      <th>5</th>\n",
       "      <td>6</td>\n",
       "      <td>David Warner</td>\n",
       "      <td>AUSTRALIA</td>\n",
       "      <td>743</td>\n",
       "    </tr>\n",
       "    <tr>\n",
       "      <th>6</th>\n",
       "      <td>7</td>\n",
       "      <td>Rohit Sharma</td>\n",
       "      <td>INDIA</td>\n",
       "      <td>740</td>\n",
       "    </tr>\n",
       "    <tr>\n",
       "      <th>7</th>\n",
       "      <td>8</td>\n",
       "      <td>Jonny Bairstow</td>\n",
       "      <td>ENGLAND</td>\n",
       "      <td>732</td>\n",
       "    </tr>\n",
       "    <tr>\n",
       "      <th>8</th>\n",
       "      <td>9</td>\n",
       "      <td>Ross Taylor</td>\n",
       "      <td>NEW ZEALAND</td>\n",
       "      <td>715</td>\n",
       "    </tr>\n",
       "    <tr>\n",
       "      <th>9</th>\n",
       "      <td>10</td>\n",
       "      <td>Kane Williamson</td>\n",
       "      <td>NEW ZEALAND</td>\n",
       "      <td>698</td>\n",
       "    </tr>\n",
       "  </tbody>\n",
       "</table>\n",
       "</div>"
      ],
      "text/plain": [
       "  Positions            Player Name       Country Ratings\n",
       "0         1             Babar Azam      PAKISTAN     890\n",
       "1         2  Rassie van der Dussen  SOUTH AFRICA     789\n",
       "2         3        Quinton de Kock  SOUTH AFRICA     784\n",
       "3         4            Imam-ul-Haq      PAKISTAN     779\n",
       "4         5            Virat Kohli         INDIA     744\n",
       "5         6           David Warner     AUSTRALIA     743\n",
       "6         7           Rohit Sharma         INDIA     740\n",
       "7         8         Jonny Bairstow       ENGLAND     732\n",
       "8         9            Ross Taylor   NEW ZEALAND     715\n",
       "9        10        Kane Williamson   NEW ZEALAND     698"
      ]
     },
     "execution_count": 55,
     "metadata": {},
     "output_type": "execute_result"
    }
   ],
   "source": [
    "odi_df"
   ]
  },
  {
   "cell_type": "markdown",
   "id": "89ee8447",
   "metadata": {},
   "source": [
    "#### Similar function to get T20I batters rankings with adjusted index"
   ]
  },
  {
   "cell_type": "code",
   "execution_count": 63,
   "id": "17ee29ad",
   "metadata": {},
   "outputs": [],
   "source": [
    "def get_t20i_player_data():\n",
    "    t20i_batters_names = []\n",
    "\n",
    "    for i in range(192,202):\n",
    "        t20i_names = div_tags[i].find('a', class_='text-hvr-underline text-bold cb-font-16').text\n",
    "        t20i_batters_names.append(t20i_names)\n",
    "\n",
    "    t20i_batters_country = []\n",
    "\n",
    "    for i in range(192,202):\n",
    "        t20i_player_country = div_tags[i].find('div', class_='cb-font-12 text-gray').text\n",
    "        t20i_batters_country.append(t20i_player_country)\n",
    "\n",
    "    t20i_batters_ratings = []\n",
    "\n",
    "    for i in range(192,202):\n",
    "        t20i_player_rating = div_tags[i].find('div', class_='cb-col cb-col-17 cb-rank-tbl pull-right').text\n",
    "        t20i_batters_ratings.append(t20i_player_rating)\n",
    "\n",
    "    t20i_batters_positions = []\n",
    "\n",
    "    for i in range(192,202):\n",
    "        t20i_player_position = div_tags[i].find('div', class_='cb-col cb-col-16 cb-rank-tbl cb-font-16').text\n",
    "        t20i_batters_positions.append(t20i_player_position)\n",
    "    \n",
    "    t20i_dict = {\n",
    "        'Positions': t20i_batters_positions,\n",
    "        'Player Name': t20i_batters_names,\n",
    "        'Country': t20i_batters_country,\n",
    "        'Ratings': t20i_batters_ratings,\n",
    "        }\n",
    "    \n",
    "    return t20i_dict"
   ]
  },
  {
   "cell_type": "code",
   "execution_count": 64,
   "id": "2891addf",
   "metadata": {},
   "outputs": [],
   "source": [
    "t20i_df = pd.DataFrame(get_t20i_player_data())"
   ]
  },
  {
   "cell_type": "code",
   "execution_count": 65,
   "id": "0ada5539",
   "metadata": {},
   "outputs": [
    {
     "data": {
      "text/html": [
       "<div>\n",
       "<style scoped>\n",
       "    .dataframe tbody tr th:only-of-type {\n",
       "        vertical-align: middle;\n",
       "    }\n",
       "\n",
       "    .dataframe tbody tr th {\n",
       "        vertical-align: top;\n",
       "    }\n",
       "\n",
       "    .dataframe thead th {\n",
       "        text-align: right;\n",
       "    }\n",
       "</style>\n",
       "<table border=\"1\" class=\"dataframe\">\n",
       "  <thead>\n",
       "    <tr style=\"text-align: right;\">\n",
       "      <th></th>\n",
       "      <th>Positions</th>\n",
       "      <th>Player Name</th>\n",
       "      <th>Country</th>\n",
       "      <th>Ratings</th>\n",
       "    </tr>\n",
       "  </thead>\n",
       "  <tbody>\n",
       "    <tr>\n",
       "      <th>0</th>\n",
       "      <td>1</td>\n",
       "      <td>Mohammad Rizwan</td>\n",
       "      <td>PAKISTAN</td>\n",
       "      <td>815</td>\n",
       "    </tr>\n",
       "    <tr>\n",
       "      <th>1</th>\n",
       "      <td>2</td>\n",
       "      <td>Babar Azam</td>\n",
       "      <td>PAKISTAN</td>\n",
       "      <td>794</td>\n",
       "    </tr>\n",
       "    <tr>\n",
       "      <th>2</th>\n",
       "      <td>3</td>\n",
       "      <td>Aiden Markram</td>\n",
       "      <td>SOUTH AFRICA</td>\n",
       "      <td>792</td>\n",
       "    </tr>\n",
       "    <tr>\n",
       "      <th>3</th>\n",
       "      <td>4</td>\n",
       "      <td>Suryakumar Yadav</td>\n",
       "      <td>INDIA</td>\n",
       "      <td>775</td>\n",
       "    </tr>\n",
       "    <tr>\n",
       "      <th>4</th>\n",
       "      <td>5</td>\n",
       "      <td>Dawid Malan</td>\n",
       "      <td>ENGLAND</td>\n",
       "      <td>731</td>\n",
       "    </tr>\n",
       "    <tr>\n",
       "      <th>5</th>\n",
       "      <td>6</td>\n",
       "      <td>Aaron Finch</td>\n",
       "      <td>AUSTRALIA</td>\n",
       "      <td>716</td>\n",
       "    </tr>\n",
       "    <tr>\n",
       "      <th>6</th>\n",
       "      <td>7</td>\n",
       "      <td>Devon Conway</td>\n",
       "      <td>NEW ZEALAND</td>\n",
       "      <td>683</td>\n",
       "    </tr>\n",
       "    <tr>\n",
       "      <th>7</th>\n",
       "      <td>8</td>\n",
       "      <td>Pathum Nissanka</td>\n",
       "      <td>SRI LANKA</td>\n",
       "      <td>675</td>\n",
       "    </tr>\n",
       "    <tr>\n",
       "      <th>8</th>\n",
       "      <td>9</td>\n",
       "      <td>Muhammad Waseem</td>\n",
       "      <td>UNITED ARAB EMIRATES</td>\n",
       "      <td>671</td>\n",
       "    </tr>\n",
       "    <tr>\n",
       "      <th>9</th>\n",
       "      <td>10</td>\n",
       "      <td>Reeza Hendricks</td>\n",
       "      <td>SOUTH AFRICA</td>\n",
       "      <td>628</td>\n",
       "    </tr>\n",
       "  </tbody>\n",
       "</table>\n",
       "</div>"
      ],
      "text/plain": [
       "  Positions       Player Name               Country Ratings\n",
       "0         1   Mohammad Rizwan              PAKISTAN     815\n",
       "1         2        Babar Azam              PAKISTAN     794\n",
       "2         3     Aiden Markram          SOUTH AFRICA     792\n",
       "3         4  Suryakumar Yadav                 INDIA     775\n",
       "4         5       Dawid Malan               ENGLAND     731\n",
       "5         6       Aaron Finch             AUSTRALIA     716\n",
       "6         7      Devon Conway           NEW ZEALAND     683\n",
       "7         8   Pathum Nissanka             SRI LANKA     675\n",
       "8         9   Muhammad Waseem  UNITED ARAB EMIRATES     671\n",
       "9        10   Reeza Hendricks          SOUTH AFRICA     628"
      ]
     },
     "execution_count": 65,
     "metadata": {},
     "output_type": "execute_result"
    }
   ],
   "source": [
    "t20i_df"
   ]
  },
  {
   "cell_type": "markdown",
   "id": "2d1ed37b",
   "metadata": {},
   "source": [
    "#### Writing all the files to CSV"
   ]
  },
  {
   "cell_type": "code",
   "execution_count": 67,
   "id": "261feedb",
   "metadata": {},
   "outputs": [],
   "source": [
    "test_df.to_csv('Test Batter Rankings.csv', index=None)\n",
    "odi_df.to_csv('ODI Batter Rankings.csv', index=None)\n",
    "t20i_df.to_csv('T20I Batter Rankings.csv', index=None)"
   ]
  },
  {
   "cell_type": "code",
   "execution_count": null,
   "id": "6abb31ce",
   "metadata": {},
   "outputs": [],
   "source": []
  },
  {
   "cell_type": "code",
   "execution_count": null,
   "id": "909b8f77",
   "metadata": {},
   "outputs": [],
   "source": []
  }
 ],
 "metadata": {
  "kernelspec": {
   "display_name": "Python 3 (ipykernel)",
   "language": "python",
   "name": "python3"
  },
  "language_info": {
   "codemirror_mode": {
    "name": "ipython",
    "version": 3
   },
   "file_extension": ".py",
   "mimetype": "text/x-python",
   "name": "python",
   "nbconvert_exporter": "python",
   "pygments_lexer": "ipython3",
   "version": "3.10.4"
  }
 },
 "nbformat": 4,
 "nbformat_minor": 5
}
